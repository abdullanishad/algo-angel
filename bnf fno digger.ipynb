{
 "cells": [
  {
   "cell_type": "code",
   "execution_count": 1,
   "id": "396eef01",
   "metadata": {},
   "outputs": [
    {
     "name": "stdout",
     "output_type": "stream",
     "text": [
      "{'status': True, 'message': 'SUCCESS', 'errorcode': '', 'data': {'clientcode': 'M368278', 'name': 'MOIDEEN KM', 'email': '', 'mobileno': '', 'exchanges': ['bse_cm', 'nse_cm', 'nse_fo'], 'products': ['BO', 'NRML', 'CO', 'CNC', 'MIS', 'MARGIN'], 'lastlogintime': '', 'broker': ''}}\n"
     ]
    }
   ],
   "source": [
    "import pyotp\n",
    "import configparser\n",
    "from smartapi import SmartConnect\n",
    "import pandas as pd\n",
    "from datetime import datetime\n",
    "import requests\n",
    "import numpy as np\n",
    "import math\n",
    "from datetime import *\n",
    "import re\n",
    "from time import sleep\n",
    "from time import time as tim\n",
    "from bs4 import BeautifulSoup\n",
    "from IPython.display import clear_output\n",
    "import nsepython\n",
    "import concurrent\n",
    "import inflect\n",
    "from time import strptime\n",
    "\n",
    "\n",
    "config = configparser.ConfigParser()\n",
    "\n",
    "# # nishad  cred\n",
    "# token = 'S3N5FR3JZ6OSTM3PBPHJRNWEP4'\n",
    "# config.read('my_credentials.ini')\n",
    "\n",
    "# shahabaz cred\n",
    "token = 'OTXOCWZA4CU4YP7LUUZCZLOCYM'\n",
    "config.read('shahabas_credentials.ini')\n",
    "\n",
    "client_id = config['angel']['client_id']\n",
    "password = config['angel']['password']\n",
    "api_key = config['angel']['api_key']\n",
    "\n",
    "def intializeSymbolTokenMap():\n",
    "    url = 'https://margincalculator.angelbroking.com/OpenAPI_File/files/OpenAPIScripMaster.json'\n",
    "    d = requests.get(url).json()\n",
    "    global token_df\n",
    "    token_df = 'test inside fun'\n",
    "    token_df = pd.DataFrame.from_dict(d)\n",
    "    token_df['expiry'] = pd.to_datetime(token_df['expiry'])\n",
    "    token_df = token_df.astype({'strike': float})\n",
    "\n",
    "# fetch token/instrument from dataframe\n",
    "def getTokenInfo (symbol,exch_seg='NSE',instrumenttype='OPTIDX',strike_price='',pe_ce='CE',expiry=None):\n",
    "    df = token_df\n",
    "    strike_price = strike_price*100\n",
    "    if exch_seg == 'NSE':\n",
    "        eq_df = df[(df['exch_seg'] == 'NSE') ]\n",
    "        return eq_df[eq_df['name'] == symbol]\n",
    "    elif exch_seg == 'NFO' and ((instrumenttype == 'FUTSTK') or (instrumenttype == 'FUTIDX')):\n",
    "        return df[(df['exch_seg'] == 'NFO') & (df['instrumenttype'] == instrumenttype) & (df['name'] == symbol)].sort_values(by=['expiry'])\n",
    "    elif exch_seg == 'NFO' and (instrumenttype == 'OPTSTK' or instrumenttype == 'OPTIDX'):\n",
    "        return df[(df['exch_seg'] == 'NFO') & (df['instrumenttype'] == instrumenttype) & (df['name'] == symbol) & (df['strike'] == strike_price) & (df['symbol'].str.endswith(pe_ce))].sort_values(by=['expiry'])\n",
    "\n",
    "intializeSymbolTokenMap()\n",
    "obj=SmartConnect(api_key=api_key)\n",
    "data = obj.generateSession(client_id,password,pyotp.TOTP(token).now())\n",
    "refreshToken= data['data']['refreshToken']\n",
    "feedToken=obj.getfeedToken()\n",
    "userProfile= obj.getProfile(refreshToken)\n",
    "print(userProfile)"
   ]
  },
  {
   "cell_type": "code",
   "execution_count": 2,
   "id": "bcf90baa",
   "metadata": {},
   "outputs": [
    {
     "data": {
      "text/plain": [
       "'Expiry 15th December.csv'"
      ]
     },
     "execution_count": 2,
     "metadata": {},
     "output_type": "execute_result"
    }
   ],
   "source": [
    "symbol = 'BANKNIFTY'\n",
    "payload = nsepython.nse_optionchain_scrapper(symbol)\n",
    "currentExpiry,dte = nsepython.nse_expirydetails(payload,0)\n",
    "p = inflect.engine()\n",
    "day = currentExpiry.strftime(\"%d\")\n",
    "month = currentExpiry.strftime(\"%B\")\n",
    "day = p.ordinal(day)\n",
    "expiry_folder_name = 'Expiry ' + day +' '+ month + '.csv'\n",
    "expiry_folder_name"
   ]
  },
  {
   "cell_type": "code",
   "execution_count": 6,
   "id": "46b05462",
   "metadata": {
    "scrolled": true
   },
   "outputs": [],
   "source": [
    "def fetch_single_strike_history_and_save_to_csv(symbol,strike):\n",
    "    q = []\n",
    "    for i in range(22, 0, -1):\n",
    "        f = currentExpiry - timedelta(days=i)\n",
    "        t = currentExpiry - timedelta(days=i-1)\n",
    "        historicParam = {\n",
    "             \"exchange\": \"NFO\",\n",
    "             \"symboltoken\": symbol,\n",
    "             \"interval\": \"ONE_MINUTE\",\n",
    "             \"fromdate\": str(f) + \" 09:15\",\n",
    "             \"todate\": str(t) + \" 15:30\"\n",
    "        }\n",
    "        try:\n",
    "            x = obj.getCandleData(historicParam)\n",
    "            sleep(0.1)\n",
    "        except:\n",
    "            try:\n",
    "                x = obj.getCandleData(historicParam)\n",
    "                sleep(1)\n",
    "            except:\n",
    "                continue\n",
    "        if x['data'] != None:\n",
    "            q += x['data']\n",
    "    df = pd.DataFrame(q)\n",
    "    if not df.empty:\n",
    "        df['date'] = df[0].apply(lambda x: x[:10])\n",
    "        df[0] = df[0].apply(lambda x: x[11:16])\n",
    "        first_column = df.pop('date')\n",
    "        df.insert(0, 'date', first_column)\n",
    "        df['date'] = df['date'].apply(lambda x: x.replace('-','/'))\n",
    "        ind = 'BANKNIFTY' + strike\n",
    "        df['ind'] = ind\n",
    "        df.set_index('ind',inplace=True)\n",
    "        df.columns = df.iloc[0]\n",
    "        df.to_csv(f'Expiry 15th December/{ind}.csv',header=False)\n",
    "        x = pd.read_csv(f'Expiry 15th December/{ind}.csv')\n",
    "        print(ind,x.index.has_duplicates)\n",
    "\n",
    "    \n"
   ]
  },
  {
   "cell_type": "code",
   "execution_count": 8,
   "id": "4e7bf17a",
   "metadata": {
    "scrolled": true
   },
   "outputs": [],
   "source": [
    "for i in range(50000,70000,100):\n",
    "    ce = getTokenInfo(symbol,'NFO','OPTIDX',i,'CE')\n",
    "    pe = getTokenInfo(symbol,'NFO','OPTIDX',i,'PE')\n",
    "    ce = ce[ce['expiry'] == str(currentExpiry)]\n",
    "    pe = pe[pe['expiry'] == str(currentExpiry)]\n",
    "    if not ce.empty:\n",
    "        strike = str(i) + 'CE'\n",
    "        ce_token = ce.iloc[0]['token']\n",
    "        fetch_single_strike_history_and_save_to_csv(ce_token,strike)\n",
    "    if not pe.empty:\n",
    "        strike = str(i) + 'PE'\n",
    "        pe_token = pe.iloc[0]['token']\n",
    "        fetch_single_strike_history_and_save_to_csv(pe_token,strike)"
   ]
  },
  {
   "cell_type": "code",
   "execution_count": null,
   "id": "20e2a0d5",
   "metadata": {},
   "outputs": [],
   "source": []
  }
 ],
 "metadata": {
  "kernelspec": {
   "display_name": "Python 3 (ipykernel)",
   "language": "python",
   "name": "python3"
  },
  "language_info": {
   "codemirror_mode": {
    "name": "ipython",
    "version": 3
   },
   "file_extension": ".py",
   "mimetype": "text/x-python",
   "name": "python",
   "nbconvert_exporter": "python",
   "pygments_lexer": "ipython3",
   "version": "3.9.12"
  }
 },
 "nbformat": 4,
 "nbformat_minor": 5
}
